{
  "cells": [
    {
      "cell_type": "markdown",
      "metadata": {
        "id": "41e3Jhzm6uQM"
      },
      "source": [
        "**Nome:** Maria Luiza Pinheiro Ferreira **DRE:** 124167281\n",
        "\n",
        "**Nome:** Betina de Mattos Vieira Matis Pereira **DRE:** 124054006"
      ]
    },
    {
      "cell_type": "markdown",
      "metadata": {
        "id": "9eHxVHrEUi7n"
      },
      "source": [
        "# **Questão 1:**"
      ]
    },
    {
      "cell_type": "code",
      "execution_count": 1,
      "metadata": {
        "id": "tTLCKiX8d2Cd"
      },
      "outputs": [
        {
          "name": "stdout",
          "output_type": "stream",
          "text": [
            "\n",
            "Matriz A (7×7):\n",
            "[[3 1 1 1 1 1 1]\n",
            " [1 3 1 1 1 1 1]\n",
            " [1 1 3 1 1 1 1]\n",
            " [1 1 1 3 1 1 1]\n",
            " [1 1 1 1 3 1 1]\n",
            " [1 1 1 1 1 3 1]\n",
            " [1 1 1 1 1 1 3]]\n",
            "\n",
            "Vetor codificado b̄:\n",
            "[ 99  87  69 113  99  75  79]\n"
          ]
        }
      ],
      "source": [
        "import numpy as np\n",
        "\n",
        "def caractere_para_numero(c):\n",
        "    c = c.lower()\n",
        "    if c == ' ':\n",
        "        return 0\n",
        "    elif 'a' <= c <= 'z':\n",
        "        return ord(c) - ord('a') + 1\n",
        "    else:\n",
        "        return 0\n",
        "\n",
        "def criar_matriz(n):\n",
        "    \"\"\"\n",
        "    Gera a matriz A de codificação (n×n) invertível:\n",
        "    A = 2·I + J, onde I é a identidade e J é a matriz de 1.\n",
        "    \"\"\"\n",
        "    I = np.eye(n, dtype=int)\n",
        "    J = np.ones((n, n), dtype=int)\n",
        "    return 2 * I + J\n",
        "\n",
        "\n",
        "def codificar_mensagem(mensagem):\n",
        "    \"\"\"\n",
        "    Codifica a mensagem em um vetor b̄:\n",
        "\n",
        "    \"\"\"\n",
        "    # Limita em 10 caracteres e garante tamanho mínimo de 3\n",
        "    if len(mensagem) > 10:\n",
        "        raise ValueError(\"Mensagem deve ter no máximo 10 caracteres.\")\n",
        "    mensagem = mensagem[:10]\n",
        "    n = max(3, len(mensagem))\n",
        "\n",
        "    # Converte para vetor numérico e preenche com zeros\n",
        "    b = np.array([ caractere_para_numero(c) for c in mensagem], dtype=int)\n",
        "    if b.shape[0] < n:\n",
        "        b = np.pad(b, (0, n - b.shape[0]), mode='constant', constant_values=0)\n",
        "\n",
        "    # Gera matriz e calcula codificado\n",
        "    A = criar_matriz(n)\n",
        "    b_linha = A.dot(b)\n",
        "\n",
        "    return A, b_linha\n",
        "\n",
        "\n",
        "def main():\n",
        "    mensagem = input(\"Digite uma mensagem de até 10 caracteres: \")\n",
        "    A, b_linha = codificar_mensagem(mensagem)\n",
        "\n",
        "    print(f\"\\nMatriz A ({A.shape[0]}×{A.shape[1]}):\")\n",
        "    print(A)\n",
        "    print(\"\\nVetor codificado b̄:\")\n",
        "    print(b_linha)\n",
        "\n",
        "\n",
        "if __name__ == \"__main__\":\n",
        "    main()"
      ]
    },
    {
      "cell_type": "markdown",
      "metadata": {
        "id": "ZdOzWsy5U7_Q"
      },
      "source": [
        "# **Questão 2:**"
      ]
    },
    {
      "cell_type": "code",
      "execution_count": 2,
      "metadata": {
        "colab": {
          "base_uri": "https://localhost:8080/"
        },
        "id": "bV0FO8KgVA-n",
        "outputId": "65c498ea-288a-4c98-a093-19d52f8bdd7d"
      },
      "outputs": [
        {
          "name": "stdout",
          "output_type": "stream",
          "text": [
            "\n",
            "Mensagem decodificada:\n",
            "oi voce\n"
          ]
        }
      ],
      "source": [
        "import numpy as np\n",
        "\n",
        "def numero_para_caractere(num):\n",
        "    \"\"\"\n",
        "    Converte número para caractere:\n",
        "\n",
        "    \"\"\"\n",
        "    if num == 0:\n",
        "        return ' '\n",
        "    if 1 <= num <= 26:\n",
        "        return chr(ord('a') + int(num) - 1)\n",
        "    return ' '\n",
        "\n",
        "def criar_matriz(n):\n",
        "    \"\"\"\n",
        "    Gera a matriz A = 2·I + J de dimensão n×n.\n",
        "\n",
        "    \"\"\"\n",
        "    I = np.eye(n, dtype=float)\n",
        "    J = np.ones((n, n), dtype=float)\n",
        "    return 2 * I + J\n",
        "\n",
        "def inverter_matriz(A):\n",
        "    \"\"\"\n",
        "    Inverte a matriz A usando eliminação de Gauss-Jordan.\n",
        "\n",
        "    \"\"\"\n",
        "    n = A.shape[0]\n",
        "    aug = np.hstack((A.copy(), np.eye(n)))\n",
        "    for i in range(n):\n",
        "        # Pivotamento parcial\n",
        "        linha_max = np.argmax(np.abs(aug[i:, i])) + i\n",
        "        if aug[linha_max, i] == 0:\n",
        "            raise ValueError(\"Matriz singular, não é possível inverter.\")\n",
        "        if linha_max != i:\n",
        "            aug[[i, linha_max]] = aug[[linha_max, i]]\n",
        "        # Normaliza pivô\n",
        "        aug[i] /= aug[i, i]\n",
        "        # Elimina coluna i nas outras linhas\n",
        "        for j in range(n):\n",
        "            if j != i:\n",
        "                aug[j] -= aug[j, i] * aug[i]\n",
        "    return aug[:, n:]\n",
        "\n",
        "def main():\n",
        "    entrada = input(\"Digite os valores de b̄ separados por espaço: \")\n",
        "    try:\n",
        "        b_linha = np.array([float(x) for x in entrada.split()])\n",
        "    except ValueError:\n",
        "        print(\"Erro: entrada inválida. Use números separados por espaço.\")\n",
        "        return\n",
        "\n",
        "    m = b_linha.size\n",
        "    if m < 3:\n",
        "        print(\"Erro: número de elementos deve ser no mínimo 3.\")\n",
        "        return\n",
        "    if m > 10:\n",
        "        print(\"Erro: número de elementos deve ser no máximo 10.\")\n",
        "        return\n",
        "    n = m\n",
        "\n",
        "    # Reconstrói A e calcula inversa\n",
        "    A = criar_matriz(n)\n",
        "    try:\n",
        "        A_inv = inverter_matriz(A)\n",
        "    except ValueError as e:\n",
        "        print(e)\n",
        "        return\n",
        "\n",
        "    # Recupera b\n",
        "    b = A_inv.dot(b_linha)\n",
        "    b_int = np.rint(b).astype(int)\n",
        "    mensagem = ''.join(numero_para_caractere(x) for x in b_int)\n",
        "\n",
        "    print(\"\\nMensagem decodificada:\")\n",
        "    print(mensagem)\n",
        "\n",
        "if __name__ == \"__main__\":\n",
        "    main()\n"
      ]
    }
  ],
  "metadata": {
    "colab": {
      "provenance": []
    },
    "kernelspec": {
      "display_name": "Python 3",
      "name": "python3"
    },
    "language_info": {
      "codemirror_mode": {
        "name": "ipython",
        "version": 3
      },
      "file_extension": ".py",
      "mimetype": "text/x-python",
      "name": "python",
      "nbconvert_exporter": "python",
      "pygments_lexer": "ipython3",
      "version": "3.11.9"
    }
  },
  "nbformat": 4,
  "nbformat_minor": 0
}
